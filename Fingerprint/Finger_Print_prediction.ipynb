{
 "cells": [
  {
   "cell_type": "code",
   "execution_count": null,
   "metadata": {
    "colab": {
     "base_uri": "https://localhost:8080/"
    },
    "executionInfo": {
     "elapsed": 25908,
     "status": "ok",
     "timestamp": 1623005517773,
     "user": {
      "displayName": "Project SMSV",
      "photoUrl": "",
      "userId": "02075431589087451728"
     },
     "user_tz": -330
    },
    "id": "p05xeiRO0yNm",
    "outputId": "0f848dc5-7b70-4369-99f8-a0117c977cbf"
   },
   "outputs": [
    {
     "name": "stdout",
     "output_type": "stream",
     "text": [
      "Mounted at /content/gdrive\n"
     ]
    }
   ],
   "source": [
    "from google.colab import drive\n",
    "drive.mount('/content/gdrive')"
   ]
  },
  {
   "cell_type": "code",
   "execution_count": null,
   "metadata": {
    "colab": {
     "base_uri": "https://localhost:8080/"
    },
    "executionInfo": {
     "elapsed": 1454,
     "status": "ok",
     "timestamp": 1623005848285,
     "user": {
      "displayName": "Project SMSV",
      "photoUrl": "",
      "userId": "02075431589087451728"
     },
     "user_tz": -330
    },
    "id": "7j06cl3t1Alb",
    "outputId": "1f48aca7-af6e-45d6-8031-efe399abb153"
   },
   "outputs": [
    {
     "name": "stdout",
     "output_type": "stream",
     "text": [
      "Shreehari\n"
     ]
    }
   ],
   "source": [
    "import tensorflow as tf\n",
    "from tensorflow.keras.models import load_model\n",
    "import numpy as np\n",
    "import cv2\n",
    "import sys\n",
    "\n",
    "\n",
    "#load the Trained model\n",
    "model = load_model('/content/gdrive/MyDrive/Finger Print model/vgg16.h5')\n",
    "\n",
    "def detect(img):\n",
    "    IMAGE_RESIZE = 224\n",
    "    CATEGORIES = [\"Manoj\",\"Manoj\",\"Manoj\",\"Shreehari\",\"Shreehari\",\"Shreehari\",\"Souparnika\",\"Souparnika\",\"Souparnika\",\"Vinay\",\"Vinay\",\"Vinay\"]\n",
    "    image = cv2.imread(img)\n",
    "    resized = cv2.resize(image, (IMAGE_RESIZE,IMAGE_RESIZE), interpolation=cv2.INTER_AREA)\n",
    "    resized = resized.reshape(1,IMAGE_RESIZE,IMAGE_RESIZE,3)\n",
    "    predicted = model.predict(resized)\n",
    "    print(CATEGORIES[np.argmax(predicted)])\n",
    "\n",
    "    return\n",
    "\n",
    "if __name__ == \"__main__\":\n",
    "    imgPath = sys.argv[1]\n",
    "    detect(\"/content/gdrive/MyDrive/Finger_print_prediction_images/ShreehariRightIndex/fingerprint1.jpg\")"
   ]
  },
  {
   "cell_type": "code",
   "execution_count": null,
   "metadata": {
    "id": "yMmoNIqz53Rz"
   },
   "outputs": [],
   "source": []
  }
 ],
 "metadata": {
  "colab": {
   "name": "Finger_Print_prediction.ipynb",
   "provenance": []
  },
  "kernelspec": {
   "display_name": "Python 3",
   "language": "python",
   "name": "python3"
  },
  "language_info": {
   "codemirror_mode": {
    "name": "ipython",
    "version": 3
   },
   "file_extension": ".py",
   "mimetype": "text/x-python",
   "name": "python",
   "nbconvert_exporter": "python",
   "pygments_lexer": "ipython3",
   "version": "3.6.9"
  }
 },
 "nbformat": 4,
 "nbformat_minor": 1
}
