{
 "cells": [
  {
   "cell_type": "code",
   "execution_count": null,
   "metadata": {
    "colab": {
     "base_uri": "https://localhost:8080/"
    },
    "id": "ISZOWikwnxDa",
    "outputId": "a3878833-c2d4-4f3a-dedf-2cfeeea20680"
   },
   "outputs": [
    {
     "name": "stdout",
     "output_type": "stream",
     "text": [
      "Mounted at /content/gdrive\n"
     ]
    }
   ],
   "source": [
    "from google.colab import drive\n",
    "drive.mount('/content/gdrive')"
   ]
  },
  {
   "cell_type": "code",
   "execution_count": null,
   "metadata": {
    "colab": {
     "base_uri": "https://localhost:8080/"
    },
    "id": "AbwmKSCVtd5v",
    "outputId": "7da3ba70-dca5-40be-99c3-05c703729eee"
   },
   "outputs": [
    {
     "name": "stdout",
     "output_type": "stream",
     "text": [
      "Karthik\n"
     ]
    }
   ],
   "source": [
    "import tensorflow as tf\n",
    "from tensorflow.keras.models import load_model\n",
    "import numpy as np\n",
    "import cv2\n",
    "import sys\n",
    "\n",
    "#load the Trained model\n",
    "model = load_model('/content/gdrive/MyDrive/Signature dataset/models/vgg16.h5')\n",
    "\n",
    "def detect(img):\n",
    "    IMAGE_RESIZE = 224\n",
    "    CATEGORIES = [\"Anil\",\"Ashoka\",\"Karthik\",\"Manoj\",\"Pawan\",\"Prajwal\",\"Sagar\",\"Shubham\",\"Souparnika\",\"Srihari\",\"Vignesh\",\"Vinay\"]\n",
    "    image = cv2.imread(img)\n",
    "    resized = cv2.resize(image, (IMAGE_RESIZE,IMAGE_RESIZE), interpolation=cv2.INTER_AREA)\n",
    "    resized = resized.reshape(1,IMAGE_RESIZE,IMAGE_RESIZE,3)\n",
    "    predicted = model.predict(resized)\n",
    "    print(CATEGORIES[np.argmax(predicted)])\n",
    "\n",
    "    return\n",
    "\n",
    "if __name__ == \"__main__\":\n",
    "    imgPath = sys.argv[1]\n",
    "    detect(\"/content/gdrive/MyDrive/Signature dataset/Signature data set/Karthik/1.jpg\")"
   ]
  },
  {
   "cell_type": "code",
   "execution_count": null,
   "metadata": {
    "id": "DwG0yl9HxPOO"
   },
   "outputs": [],
   "source": []
  }
 ],
 "metadata": {
  "colab": {
   "name": "Signature_prediction.ipynb",
   "provenance": []
  },
  "kernelspec": {
   "display_name": "Python 3",
   "language": "python",
   "name": "python3"
  },
  "language_info": {
   "codemirror_mode": {
    "name": "ipython",
    "version": 3
   },
   "file_extension": ".py",
   "mimetype": "text/x-python",
   "name": "python",
   "nbconvert_exporter": "python",
   "pygments_lexer": "ipython3",
   "version": "3.6.9"
  }
 },
 "nbformat": 4,
 "nbformat_minor": 1
}
